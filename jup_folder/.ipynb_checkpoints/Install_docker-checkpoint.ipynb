{
 "cells": [
  {
   "cell_type": "code",
   "execution_count": 4,
   "metadata": {},
   "outputs": [
    {
     "name": "stdout",
     "output_type": "stream",
     "text": [
      "Reading package lists... Done\n",
      "Building dependency tree       \n",
      "Reading state information... Done\n",
      "curl is already the newest version (7.58.0-2ubuntu3.10).\n",
      "curl set to manually installed.\n",
      "software-properties-common is already the newest version (0.96.24.32.14).\n",
      "software-properties-common set to manually installed.\n",
      "The following packages were automatically installed and are no longer required:\n",
      "  grub-pc-bin libnuma1\n",
      "Use 'sudo apt autoremove' to remove them.\n",
      "The following NEW packages will be installed:\n",
      "  apt-transport-https\n",
      "The following packages will be upgraded:\n",
      "  ca-certificates\n",
      "1 upgraded, 1 newly installed, 0 to remove and 35 not upgraded.\n",
      "Need to get 155 kB of archives.\n",
      "After this operation, 169 kB of additional disk space will be used.\n",
      "Get:1 http://europe-west1.gce.archive.ubuntu.com/ubuntu bionic-updates/main amd64 ca-certificates all 20201027ubuntu0.18.04.1 [153 kB]\n",
      "Get:2 http://europe-west1.gce.archive.ubuntu.com/ubuntu bionic-updates/universe amd64 apt-transport-https all 1.6.12ubuntu0.1 [1692 B]\n",
      "Fetched 155 kB in 0s (6845 kB/s)              \u001b[0m\u001b[33m\n",
      "Preconfiguring packages ...\n",
      "\n",
      "(Reading database ... 72071 files and directories currently installed.)\n",
      "Preparing to unpack .../ca-certificates_20201027ubuntu0.18.04.1_all.deb ...\n",
      "\u001b7\u001b[24;0f\u001b[42m\u001b[30mProgress: [  0%]\u001b[49m\u001b[39m [..........................................................] \u001b8\u001b7\u001b[24;0f\u001b[42m\u001b[30mProgress: [  9%]\u001b[49m\u001b[39m [#####.....................................................] \u001b8Unpacking ca-certificates (20201027ubuntu0.18.04.1) over (20190110~18.04.1) ...\n",
      "\u001b7\u001b[24;0f\u001b[42m\u001b[30mProgress: [ 18%]\u001b[49m\u001b[39m [##########................................................] \u001b8\u001b7\u001b[24;0f\u001b[42m\u001b[30mProgress: [ 27%]\u001b[49m\u001b[39m [###############...........................................] \u001b8Selecting previously unselected package apt-transport-https.\n",
      "Preparing to unpack .../apt-transport-https_1.6.12ubuntu0.1_all.deb ...\n",
      "\u001b7\u001b[24;0f\u001b[42m\u001b[30mProgress: [ 36%]\u001b[49m\u001b[39m [#####################.....................................] \u001b8Unpacking apt-transport-https (1.6.12ubuntu0.1) ...\n",
      "\u001b7\u001b[24;0f\u001b[42m\u001b[30mProgress: [ 45%]\u001b[49m\u001b[39m [##########################................................] \u001b8\u001b7\u001b[24;0f\u001b[42m\u001b[30mProgress: [ 55%]\u001b[49m\u001b[39m [###############################...........................] \u001b8Setting up apt-transport-https (1.6.12ubuntu0.1) ...\n",
      "\u001b7\u001b[24;0f\u001b[42m\u001b[30mProgress: [ 64%]\u001b[49m\u001b[39m [####################################......................] \u001b8\u001b7\u001b[24;0f\u001b[42m\u001b[30mProgress: [ 73%]\u001b[49m\u001b[39m [##########################################................] \u001b8Setting up ca-certificates (20201027ubuntu0.18.04.1) ...\n",
      "\u001b7\u001b[24;0f\u001b[42m\u001b[30mProgress: [ 82%]\u001b[49m\u001b[39m [###############################################...........] \u001b8Updating certificates in /etc/ssl/certs...\n",
      "20 added, 9 removed; done.\n",
      "\u001b7\u001b[24;0f\u001b[42m\u001b[30mProgress: [ 91%]\u001b[49m\u001b[39m [####################################################......] \u001b8Processing triggers for man-db (2.8.3-2ubuntu0.1) ...\n",
      "Processing triggers for ca-certificates (20201027ubuntu0.18.04.1) ...\n",
      "Updating certificates in /etc/ssl/certs...\n",
      "0 added, 0 removed; done.\n",
      "Running hooks in /etc/ca-certificates/update.d...\n",
      "done.\n",
      "\u001b7\u001b[24;0f\u001b[42m\u001b[30mProgress: [ 92%]\u001b[49m\u001b[39m [#####################################################.....] \u001b8\n",
      "\u001b7\u001b[0;24r\u001b8\u001b[1A\u001b[J"
     ]
    }
   ],
   "source": [
    "! sudo apt install apt-transport-https ca-certificates curl software-properties-common -y"
   ]
  },
  {
   "cell_type": "code",
   "execution_count": 6,
   "metadata": {},
   "outputs": [
    {
     "name": "stdout",
     "output_type": "stream",
     "text": [
      "OK\r\n"
     ]
    }
   ],
   "source": [
    "! curl -fsSL https://download.docker.com/linux/ubuntu/gpg | sudo apt-key add -\n"
   ]
  },
  {
   "cell_type": "code",
   "execution_count": 7,
   "metadata": {},
   "outputs": [
    {
     "name": "stdout",
     "output_type": "stream",
     "text": [
      "Hit:1 http://europe-west1.gce.archive.ubuntu.com/ubuntu bionic InRelease\n",
      "Get:2 http://europe-west1.gce.archive.ubuntu.com/ubuntu bionic-updates InRelease [88.7 kB]\n",
      "Get:3 http://europe-west1.gce.archive.ubuntu.com/ubuntu bionic-backports InRelease [74.6 kB]\n",
      "Get:4 http://security.ubuntu.com/ubuntu bionic-security InRelease [88.7 kB]    \n",
      "Hit:5 http://archive.canonical.com/ubuntu bionic InRelease                     \n",
      "Get:6 https://download.docker.com/linux/ubuntu bionic InRelease [64.4 kB]      \n",
      "Get:7 https://download.docker.com/linux/ubuntu bionic/stable amd64 Packages [13.0 kB]\n",
      "Fetched 329 kB in 1s (466 kB/s)       \n",
      "Reading package lists... Done\n"
     ]
    }
   ],
   "source": [
    "! sudo add-apt-repository \"deb [arch=amd64] https://download.docker.com/linux/ubuntu bionic stable\""
   ]
  },
  {
   "cell_type": "code",
   "execution_count": 8,
   "metadata": {},
   "outputs": [
    {
     "name": "stdout",
     "output_type": "stream",
     "text": [
      "Hit:1 http://europe-west1.gce.archive.ubuntu.com/ubuntu bionic InRelease\n",
      "Hit:2 http://europe-west1.gce.archive.ubuntu.com/ubuntu bionic-updates InRelease[0m\n",
      "Hit:3 http://europe-west1.gce.archive.ubuntu.com/ubuntu bionic-backports InRelease\n",
      "Hit:4 https://download.docker.com/linux/ubuntu bionic InRelease                \u001b[0m\u001b[33m\n",
      "Hit:5 http://security.ubuntu.com/ubuntu bionic-security InRelease        \u001b[0m  \u001b[0m\u001b[33m\n",
      "Hit:6 http://archive.canonical.com/ubuntu bionic InRelease               \n",
      "Reading package lists... Done\u001b[0m                  \u001b[33m\u001b[33m\u001b[33m\u001b[33m\u001b[33m\n",
      "Building dependency tree       \n",
      "Reading state information... Done\n",
      "35 packages can be upgraded. Run 'apt list --upgradable' to see them.\n"
     ]
    }
   ],
   "source": [
    "! sudo apt update"
   ]
  },
  {
   "cell_type": "code",
   "execution_count": 11,
   "metadata": {
    "scrolled": true
   },
   "outputs": [
    {
     "name": "stdout",
     "output_type": "stream",
     "text": [
      "Reading package lists... Done\n",
      "Building dependency tree       \n",
      "Reading state information... Done\n",
      "The following packages were automatically installed and are no longer required:\n",
      "  grub-pc-bin libnuma1\n",
      "Use 'sudo apt autoremove' to remove them.\n",
      "The following additional packages will be installed:\n",
      "  aufs-tools cgroupfs-mount containerd.io docker-ce-cli libltdl7 pigz\n",
      "The following NEW packages will be installed:\n",
      "  aufs-tools cgroupfs-mount containerd.io docker-ce docker-ce-cli libltdl7\n",
      "  pigz\n",
      "0 upgraded, 7 newly installed, 0 to remove and 35 not upgraded.\n",
      "Need to get 91.3 MB of archives.\n",
      "After this operation, 410 MB of additional disk space will be used.\n",
      "Get:1 http://europe-west1.gce.archive.ubuntu.com/ubuntu bionic/universe amd64 pigz amd64 2.4-1 [57.4 kB]\n",
      "Get:2 http://europe-west1.gce.archive.ubuntu.com/ubuntu bionic/universe amd64 aufs-tools amd64 1:4.9+20170918-1ubuntu1 [104 kB]\n",
      "Get:3 http://europe-west1.gce.archive.ubuntu.com/ubuntu bionic/universe amd64 cgroupfs-mount all 1.4 [6320 B]\n",
      "Get:4 http://europe-west1.gce.archive.ubuntu.com/ubuntu bionic/main amd64 libltdl7 amd64 2.4.6-2 [38.8 kB]\n",
      "Get:5 https://download.docker.com/linux/ubuntu bionic/stable amd64 containerd.io amd64 1.3.7-1 [24.4 MB]\n",
      "Get:6 https://download.docker.com/linux/ubuntu bionic/stable amd64 docker-ce-cli amd64 5:19.03.13~3-0~ubuntu-bionic [44.2 MB]\n",
      "Get:7 https://download.docker.com/linux/ubuntu bionic/stable amd64 docker-ce amd64 5:19.03.13~3-0~ubuntu-bionic [22.5 MB]\n",
      "Fetched 91.3 MB in 2s (52.7 MB/s)   \u001b[0m\u001b[33m\n",
      "\n",
      "\u001b7\u001b[0;23r\u001b8\u001b[1ASelecting previously unselected package pigz.\n",
      "(Reading database ... 72086 files and directories currently installed.)\n",
      "Preparing to unpack .../0-pigz_2.4-1_amd64.deb ...\n",
      "\u001b7\u001b[24;0f\u001b[42m\u001b[30mProgress: [  0%]\u001b[49m\u001b[39m [..........................................................] \u001b8\u001b7\u001b[24;0f\u001b[42m\u001b[30mProgress: [  3%]\u001b[49m\u001b[39m [#.........................................................] \u001b8Unpacking pigz (2.4-1) ...\n",
      "\u001b7\u001b[24;0f\u001b[42m\u001b[30mProgress: [  6%]\u001b[49m\u001b[39m [###.......................................................] \u001b8\u001b7\u001b[24;0f\u001b[42m\u001b[30mProgress: [  8%]\u001b[49m\u001b[39m [####......................................................] \u001b8Selecting previously unselected package aufs-tools.\n",
      "Preparing to unpack .../1-aufs-tools_1%3a4.9+20170918-1ubuntu1_amd64.deb ...\n",
      "\u001b7\u001b[24;0f\u001b[42m\u001b[30mProgress: [ 11%]\u001b[49m\u001b[39m [######....................................................] \u001b8Unpacking aufs-tools (1:4.9+20170918-1ubuntu1) ...\n",
      "\u001b7\u001b[24;0f\u001b[42m\u001b[30mProgress: [ 14%]\u001b[49m\u001b[39m [########..................................................] \u001b8\u001b7\u001b[24;0f\u001b[42m\u001b[30mProgress: [ 17%]\u001b[49m\u001b[39m [#########.................................................] \u001b8Selecting previously unselected package cgroupfs-mount.\n",
      "Preparing to unpack .../2-cgroupfs-mount_1.4_all.deb ...\n",
      "\u001b7\u001b[24;0f\u001b[42m\u001b[30mProgress: [ 19%]\u001b[49m\u001b[39m [###########...............................................] \u001b8Unpacking cgroupfs-mount (1.4) ...\n",
      "\u001b7\u001b[24;0f\u001b[42m\u001b[30mProgress: [ 22%]\u001b[49m\u001b[39m [############..............................................] \u001b8\u001b7\u001b[24;0f\u001b[42m\u001b[30mProgress: [ 25%]\u001b[49m\u001b[39m [##############............................................] \u001b8Selecting previously unselected package containerd.io.\n",
      "Preparing to unpack .../3-containerd.io_1.3.7-1_amd64.deb ...\n",
      "\u001b7\u001b[24;0f\u001b[42m\u001b[30mProgress: [ 28%]\u001b[49m\u001b[39m [################..........................................] \u001b8Unpacking containerd.io (1.3.7-1) ...\n",
      "\u001b7\u001b[24;0f\u001b[42m\u001b[30mProgress: [ 31%]\u001b[49m\u001b[39m [#################.........................................] \u001b8\u001b7\u001b[24;0f\u001b[42m\u001b[30mProgress: [ 33%]\u001b[49m\u001b[39m [###################.......................................] \u001b8Selecting previously unselected package docker-ce-cli.\n",
      "Preparing to unpack .../4-docker-ce-cli_5%3a19.03.13~3-0~ubuntu-bionic_amd64.deb ...\n",
      "\u001b7\u001b[24;0f\u001b[42m\u001b[30mProgress: [ 36%]\u001b[49m\u001b[39m [####################......................................] \u001b8Unpacking docker-ce-cli (5:19.03.13~3-0~ubuntu-bionic) ...\n",
      "\u001b7\u001b[24;0f\u001b[42m\u001b[30mProgress: [ 39%]\u001b[49m\u001b[39m [######################....................................] \u001b8\u001b7\u001b[24;0f\u001b[42m\u001b[30mProgress: [ 42%]\u001b[49m\u001b[39m [########################..................................] \u001b8Selecting previously unselected package docker-ce.\n",
      "Preparing to unpack .../5-docker-ce_5%3a19.03.13~3-0~ubuntu-bionic_amd64.deb ...\n",
      "\u001b7\u001b[24;0f\u001b[42m\u001b[30mProgress: [ 44%]\u001b[49m\u001b[39m [#########################.................................] \u001b8Unpacking docker-ce (5:19.03.13~3-0~ubuntu-bionic) ...\n",
      "\u001b7\u001b[24;0f\u001b[42m\u001b[30mProgress: [ 47%]\u001b[49m\u001b[39m [###########################...............................] \u001b8\u001b7\u001b[24;0f\u001b[42m\u001b[30mProgress: [ 50%]\u001b[49m\u001b[39m [#############################.............................] \u001b8Selecting previously unselected package libltdl7:amd64.\n",
      "Preparing to unpack .../6-libltdl7_2.4.6-2_amd64.deb ...\n",
      "\u001b7\u001b[24;0f\u001b[42m\u001b[30mProgress: [ 53%]\u001b[49m\u001b[39m [##############################............................] \u001b8Unpacking libltdl7:amd64 (2.4.6-2) ...\n",
      "\u001b7\u001b[24;0f\u001b[42m\u001b[30mProgress: [ 56%]\u001b[49m\u001b[39m [################################..........................] \u001b8\u001b7\u001b[24;0f\u001b[42m\u001b[30mProgress: [ 58%]\u001b[49m\u001b[39m [#################################.........................] \u001b8Setting up aufs-tools (1:4.9+20170918-1ubuntu1) ...\n",
      "\u001b7\u001b[24;0f\u001b[42m\u001b[30mProgress: [ 61%]\u001b[49m\u001b[39m [###################################.......................] \u001b8\u001b7\u001b[24;0f\u001b[42m\u001b[30mProgress: [ 64%]\u001b[49m\u001b[39m [#####################################.....................] \u001b8Setting up containerd.io (1.3.7-1) ...\n",
      "\u001b7\u001b[24;0f\u001b[42m\u001b[30mProgress: [ 67%]\u001b[49m\u001b[39m [######################################....................] \u001b8Created symlink /etc/systemd/system/multi-user.target.wants/containerd.service → /lib/systemd/system/containerd.service.\n",
      "\u001b7\u001b[24;0f\u001b[42m\u001b[30mProgress: [ 69%]\u001b[49m\u001b[39m [########################################..................] \u001b8Setting up cgroupfs-mount (1.4) ...\n",
      "\u001b7\u001b[24;0f\u001b[42m\u001b[30mProgress: [ 72%]\u001b[49m\u001b[39m [#########################################.................] \u001b8\u001b7\u001b[24;0f\u001b[42m\u001b[30mProgress: [ 75%]\u001b[49m\u001b[39m [###########################################...............] \u001b8Setting up libltdl7:amd64 (2.4.6-2) ...\n",
      "\u001b7\u001b[24;0f\u001b[42m\u001b[30mProgress: [ 78%]\u001b[49m\u001b[39m [#############################################.............] \u001b8\u001b7\u001b[24;0f\u001b[42m\u001b[30mProgress: [ 81%]\u001b[49m\u001b[39m [##############################################............] \u001b8Setting up docker-ce-cli (5:19.03.13~3-0~ubuntu-bionic) ...\n",
      "\u001b7\u001b[24;0f\u001b[42m\u001b[30mProgress: [ 83%]\u001b[49m\u001b[39m [################################################..........] \u001b8\u001b7\u001b[24;0f\u001b[42m\u001b[30mProgress: [ 86%]\u001b[49m\u001b[39m [#################################################.........] \u001b8Setting up pigz (2.4-1) ...\n",
      "\u001b7\u001b[24;0f\u001b[42m\u001b[30mProgress: [ 89%]\u001b[49m\u001b[39m [###################################################.......] \u001b8\u001b7\u001b[24;0f\u001b[42m\u001b[30mProgress: [ 92%]\u001b[49m\u001b[39m [#####################################################.....] \u001b8Setting up docker-ce (5:19.03.13~3-0~ubuntu-bionic) ...\n",
      "\u001b7\u001b[24;0f\u001b[42m\u001b[30mProgress: [ 94%]\u001b[49m\u001b[39m [######################################################....] \u001b8Created symlink /etc/systemd/system/multi-user.target.wants/docker.service → /lib/systemd/system/docker.service.\n",
      "Created symlink /etc/systemd/system/sockets.target.wants/docker.socket → /lib/systemd/system/docker.socket.\n",
      "\u001b7\u001b[24;0f\u001b[42m\u001b[30mProgress: [ 97%]\u001b[49m\u001b[39m [########################################################..] \u001b8Processing triggers for libc-bin (2.27-3ubuntu1.2) ...\n",
      "Processing triggers for systemd (237-3ubuntu10.42) ...\n",
      "Processing triggers for man-db (2.8.3-2ubuntu0.1) ...\n",
      "Processing triggers for ureadahead (0.100.0-21) ...\n",
      "\n",
      "\u001b7\u001b[0;24r\u001b8\u001b[1A\u001b[J"
     ]
    }
   ],
   "source": [
    "! sudo apt install docker-ce -y"
   ]
  },
  {
   "cell_type": "code",
   "execution_count": 12,
   "metadata": {},
   "outputs": [
    {
     "name": "stdout",
     "output_type": "stream",
     "text": [
      "\u001b[0;1;32m●\u001b[0m docker.service - Docker Application Container Engine\u001b[m\n",
      "   Loaded: loaded (/lib/systemd/system/docker.service; enabled; vendor preset: e\u001b[m\n",
      "   Active: \u001b[0;1;32mactive (running)\u001b[0m since Thu 2020-11-05 12:47:52 UTC; 10s ago\u001b[m\n",
      "     Docs: https://docs.docker.com\u001b[m\n",
      " Main PID: 16287 (dockerd)\u001b[m\n",
      "    Tasks: 17\u001b[m\n",
      "   CGroup: /system.slice/docker.service\u001b[m\n",
      "           └─16287 /usr/bin/dockerd -H fd:// --containerd=/run/containerd/contai\u001b[m\n",
      "\u001b[m\n",
      "Nov 05 12:47:52 vm-ubuntu-frag dockerd[16287]: time=\"2020-11-05T12:47:52.3501301\u001b[m\n",
      "Nov 05 12:47:52 vm-ubuntu-frag dockerd[16287]: time=\"2020-11-05T12:47:52.3501364\u001b[m\n",
      "Nov 05 12:47:52 vm-ubuntu-frag dockerd[16287]: time=\"2020-11-05T12:47:52.3501492\u001b[m\n",
      "Nov 05 12:47:52 vm-ubuntu-frag dockerd[16287]: time=\"2020-11-05T12:47:52.3503628\u001b[m\n",
      "Nov 05 12:47:52 vm-ubuntu-frag dockerd[16287]: time=\"2020-11-05T12:47:52.4873111\u001b[m\n",
      "Nov 05 12:47:52 vm-ubuntu-frag dockerd[16287]: time=\"2020-11-05T12:47:52.5630128\u001b[m\n",
      "Nov 05 12:47:52 vm-ubuntu-frag dockerd[16287]: time=\"2020-11-05T12:47:52.5872411\u001b[m\n",
      "Nov 05 12:47:52 vm-ubuntu-frag dockerd[16287]: time=\"2020-11-05T12:47:52.5874963\u001b[m\n",
      "Nov 05 12:47:52 vm-ubuntu-frag dockerd[16287]: time=\"2020-11-05T12:47:52.6234515\u001b[m\n",
      "Nov 05 12:47:52 vm-ubuntu-frag systemd[1]: Started Docker Application Container \u001b[m\n",
      "\u001b[K\u001b[?1l\u001b>1-19/19 (END)\u001b[m\u001b[K\u0007"
     ]
    }
   ],
   "source": [
    "! sudo systemctl status docker"
   ]
  },
  {
   "cell_type": "markdown",
   "metadata": {},
   "source": [
    "## Pour ne pas sudo les commandes docker a chaque fois"
   ]
  },
  {
   "cell_type": "code",
   "execution_count": 16,
   "metadata": {},
   "outputs": [
    {
     "name": "stdout",
     "output_type": "stream",
     "text": [
      "groupadd: group 'docker' already exists\r\n"
     ]
    }
   ],
   "source": [
    "! sudo groupadd docker"
   ]
  },
  {
   "cell_type": "code",
   "execution_count": 17,
   "metadata": {},
   "outputs": [
    {
     "name": "stdout",
     "output_type": "stream",
     "text": [
      "Adding user fahem_rabhi04 to group docker\r\n"
     ]
    }
   ],
   "source": [
    "! sudo gpasswd -a $USER docker"
   ]
  },
  {
   "cell_type": "code",
   "execution_count": null,
   "metadata": {},
   "outputs": [],
   "source": []
  }
 ],
 "metadata": {
  "kernelspec": {
   "display_name": "Python 3",
   "language": "python",
   "name": "python3"
  },
  "language_info": {
   "codemirror_mode": {
    "name": "ipython",
    "version": 3
   },
   "file_extension": ".py",
   "mimetype": "text/x-python",
   "name": "python",
   "nbconvert_exporter": "python",
   "pygments_lexer": "ipython3",
   "version": "3.6.9"
  }
 },
 "nbformat": 4,
 "nbformat_minor": 4
}
