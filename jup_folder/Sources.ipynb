{
 "cells": [
  {
   "cell_type": "markdown",
   "metadata": {},
   "source": [
    "# sources\n",
    "\n",
    "## google gcp vm mise en place\n",
    "(skipper toutes les parties GPU)\n",
    "\n",
    "https://medium.com/france-school-of-ai/installer-sa-premi%C3%A8re-machine-avec-gpu-dans-le-cloud-98798fdc4406\n",
    "\n",
    "## installer pip\n",
    "\n",
    "https://www.hostinger.fr/tutoriels/installer-pip-sur-ubuntu/\n",
    "\n",
    "sudo apt update\n",
    "apt install python3-pip\n",
    "\n",
    "## installer jupyter notebook\n",
    "\n",
    "(ici avec instance virtualenv)\n",
    "https://www.digitalocean.com/community/tutorials/how-to-set-up-jupyter-notebook-with-python-3-on-ubuntu-20-04-and-connect-via-ssh-tunneling-fr\n",
    "\n",
    "en gros : \n",
    "\n",
    "(sudo) pip install jupyter\n",
    "\n",
    "si ça marche pas :\n",
    "\n",
    "(sudo) pip3 install jupyter"
   ]
  },
  {
   "cell_type": "markdown",
   "metadata": {},
   "source": [
    "## pour les TP\n",
    "\n",
    "pipinstalls :"
   ]
  },
  {
   "cell_type": "code",
   "execution_count": null,
   "metadata": {},
   "outputs": [],
   "source": [
    "! pip install numpy\n",
    "! pip install pandas\n",
    "! pip install seaborn\n",
    "! pip install flask\n",
    "! pip install jupyter\n",
    "! pip install scikit-learn\n",
    "! pip install sklearn\n",
    "! pip install tensorflow\n",
    "! pip install stop_words\n",
    "! pip3 install streamlit"
   ]
  }
 ],
 "metadata": {
  "kernelspec": {
   "display_name": "Python 3",
   "language": "python",
   "name": "python3"
  },
  "language_info": {
   "codemirror_mode": {
    "name": "ipython",
    "version": 3
   },
   "file_extension": ".py",
   "mimetype": "text/x-python",
   "name": "python",
   "nbconvert_exporter": "python",
   "pygments_lexer": "ipython3",
   "version": "3.6.9"
  }
 },
 "nbformat": 4,
 "nbformat_minor": 4
}
